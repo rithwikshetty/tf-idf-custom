{
 "cells": [
  {
   "cell_type": "markdown",
   "metadata": {},
   "source": [
    "# TF-IDF Implementation"
   ]
  },
  {
   "cell_type": "markdown",
   "metadata": {
    "colab_type": "text",
    "id": "IvLvmewlxLix"
   },
   "source": [
    "<font face='georgia'>\n",
    "    \n",
    "   <h4><strong>What does tf-idf mean?</strong></h4>\n",
    "\n",
    "   <p>    \n",
    "Tf-idf stands for <em>term frequency-inverse document frequency</em>, and the tf-idf weight is a weight often used in information retrieval and text mining. This weight is a statistical measure used to evaluate how important a word is to a document in a collection or corpus. The importance increases proportionally to the number of times a word appears in the document but is offset by the frequency of the word in the corpus. Variations of the tf-idf weighting scheme are often used by search engines as a central tool in scoring and ranking a document's relevance given a user query.\n",
    "</p>\n",
    "    \n",
    "   <p>\n",
    "One of the simplest ranking functions is computed by summing the tf-idf for each query term; many more sophisticated ranking functions are variants of this simple model.\n",
    "</p>\n",
    "    \n",
    "   <p>\n",
    "Tf-idf can be successfully used for stop-words filtering in various subject fields including text summarization and classification.\n",
    "</p>\n",
    "    \n",
    "</font>"
   ]
  },
  {
   "cell_type": "markdown",
   "metadata": {
    "colab_type": "text",
    "id": "4XLaGFUMxLiy"
   },
   "source": [
    "<font face='georgia'>\n",
    "    <h4><strong>How to Compute:</strong></h4>\n",
    "\n",
    "Typically, the tf-idf weight is composed by two terms: the first computes the normalized Term Frequency (TF), aka. the number of times a word appears in a document, divided by the total number of words in that document; the second term is the Inverse Document Frequency (IDF), computed as the logarithm of the number of the documents in the corpus divided by the number of documents where the specific term appears.\n",
    "\n",
    " <ul>\n",
    "    <li>\n",
    "<strong>TF:</strong> Term Frequency, which measures how frequently a term occurs in a document. Since every document is different in length, it is possible that a term would appear much more times in long documents than shorter ones. Thus, the term frequency is often divided by the document length (aka. the total number of terms in the document) as a way of normalization: <br>\n",
    "\n",
    "$TF(t) = \\frac{\\text{Number of times term t appears in a document}}{\\text{Total number of terms in the document}}.$\n",
    "</li>\n",
    "<li>\n",
    "<strong>IDF:</strong> Inverse Document Frequency, which measures how important a term is. While computing TF, all terms are considered equally important. However it is known that certain terms, such as \"is\", \"of\", and \"that\", may appear a lot of times but have little importance. Thus we need to weigh down the frequent terms while scale up the rare ones, by computing the following: <br>\n",
    "\n",
    "$IDF(t) = \\log_{e}\\frac{\\text{Total  number of documents}} {\\text{Number of documents with term t in it}}.$\n",
    "for numerical stabiltiy we will be changing this formula little bit\n",
    "$IDF(t) = \\log_{e}\\frac{\\text{Total  number of documents}} {\\text{Number of documents with term t in it}+1}.$\n",
    "</li>\n",
    "</ul>\n",
    "\n",
    "<br>\n",
    "<h4><strong>Example</strong></h4>\n",
    "<p>\n",
    "\n",
    "Consider a document containing 100 words wherein the word cat appears 3 times. The term frequency (i.e., tf) for cat is then (3 / 100) = 0.03. Now, assume we have 10 million documents and the word cat appears in one thousand of these. Then, the inverse document frequency (i.e., idf) is calculated as log(10,000,000 / 1,000) = 4. Thus, the Tf-idf weight is the product of these quantities: 0.03 * 4 = 0.12.\n",
    "</p>\n",
    "</font>"
   ]
  },
  {
   "cell_type": "markdown",
   "metadata": {
    "colab_type": "text",
    "id": "dg2ooa4DxLiz"
   },
   "source": [
    "## Task-1"
   ]
  },
  {
   "cell_type": "markdown",
   "metadata": {
    "colab_type": "text",
    "id": "TAcTjhO8xLiz"
   },
   "source": [
    "<font face='georgia'>\n",
    "    <h4><strong>1. Build a TFIDF Vectorizer & compare its results with Sklearn:</strong></h4>\n",
    "\n",
    "<ul>\n",
    "    <li> As a part of this task we will be implementing TFIDF vectorizer on a collection of text documents.</li>\n",
    "    <br>\n",
    "    <li> We will then compare the results of the implementation of TFIDF vectorizer with that of sklearns implemenation TFIDF vectorizer.</li>\n",
    "    <br>\n",
    "    <li> Sklearn does few more tweaks in the implementation of its version of TFIDF vectorizer, so to replicate the exact results we would need to add following things to our custom implementation of tfidf vectorizer:\n",
    "       <ol>\n",
    "        <li> Sklearn has its vocabulary generated from idf sroted in alphabetical order</li>\n",
    "        <li> Sklearn formula of idf is different from the standard textbook formula. Here the constant <strong>\"1\"</strong> is added to the numerator and denominator of the idf as if an extra document was seen containing every term in the collection exactly once, which prevents zero divisions.\n",
    "            \n",
    " $IDF(t) = 1+\\log_{e}\\frac{1\\text{ }+\\text{ Total  number of documents in collection}} {1+\\text{Number of documents with term t in it}}.$\n",
    "        </li>\n",
    "        <li> Sklearn applies L2-normalization on its output matrix.</li>\n",
    "        <li> The final output of sklearn tfidf vectorizer is a sparse matrix.</li>\n",
    "    </ol>\n",
    "    <br>\n",
    "    <li>Steps to approach this task:\n",
    "    <ol>\n",
    "        <li> We would have to write both fit and transform methods for our custom implementation of tfidf vectorizer.</li>\n",
    "        <li> Print out the alphabetically sorted voacb after we fit our data and check if its the same as that of the feature names from sklearn tfidf vectorizer. </li>\n",
    "        <li> Print out the idf values from our implementation and check if its the same as that of sklearns tfidf vectorizer idf values. </li>\n",
    "        <li> Once we get our voacb and idf values to be same as that of sklearns implementation of tfidf vectorizer, proceed to the below steps. </li>\n",
    "        <li> Ensure the output of your implementation is a sparse matrix. Before generating the final output, we need to normalize your sparse matrix using L2 normalization. Refer to this link https://scikit-learn.org/stable/modules/generated/sklearn.preprocessing.normalize.html </li>\n",
    "        <li> After completing the above steps, we print the output of our custom implementation and compare it with sklearns implementation of tfidf vectorizer.</li>\n",
    "        <li> To check the output of a single document in our collection of documents,  we will convert the sparse matrix related only to that document into dense matrix and print it.</li>\n",
    "        </ol>\n",
    "    </li>\n",
    "    <br>\n",
    "   </ul>"
   ]
  },
  {
   "cell_type": "markdown",
   "metadata": {
    "colab_type": "text",
    "id": "OnV82tg1xLi0"
   },
   "source": [
    "### Corpus"
   ]
  },
  {
   "cell_type": "code",
   "execution_count": 1,
   "metadata": {
    "colab": {},
    "colab_type": "code",
    "id": "bUsYm9wjxLi1"
   },
   "outputs": [],
   "source": [
    "## SkLearn# Collection of string documents\n",
    "\n",
    "corpus = [\n",
    "     'this is the first document',\n",
    "     'this document is the second document',\n",
    "     'and this is the third one',\n",
    "     'is this the first document',\n",
    "]"
   ]
  },
  {
   "cell_type": "markdown",
   "metadata": {
    "colab_type": "text",
    "id": "eLwmFZfKxLi4"
   },
   "source": [
    "### SkLearn Implementation"
   ]
  },
  {
   "cell_type": "code",
   "execution_count": 14,
   "metadata": {
    "colab": {},
    "colab_type": "code",
    "id": "Np4dfQOkxLi4"
   },
   "outputs": [],
   "source": [
    "from sklearn.feature_extraction.text import TfidfVectorizer\n",
    "vectorizer = TfidfVectorizer()\n",
    "vectorizer.fit(corpus)\n",
    "skl_output = vectorizer.transform(corpus)\n",
    "from tqdm import tqdm"
   ]
  },
  {
   "cell_type": "code",
   "execution_count": 4,
   "metadata": {
    "colab": {
     "base_uri": "https://localhost:8080/",
     "height": 33
    },
    "colab_type": "code",
    "executionInfo": {
     "elapsed": 1128,
     "status": "ok",
     "timestamp": 1591361655064,
     "user": {
      "displayName": "Rithwik Shetty",
      "photoUrl": "https://lh3.googleusercontent.com/a-/AOh14Gg1IwZK1Vf_C1B4izvbhmGe3POj09ZZ7xxFLUAyMA4=s64",
      "userId": "07431049720224012031"
     },
     "user_tz": -330
    },
    "id": "-7Om8YpYxLi6",
    "outputId": "e03f313f-d76f-4ef4-cb88-5630c0ed82dd"
   },
   "outputs": [
    {
     "name": "stdout",
     "output_type": "stream",
     "text": [
      "['and' 'document' 'first' 'is' 'one' 'second' 'the' 'third' 'this']\n"
     ]
    }
   ],
   "source": [
    "# sklearn feature names, they are sorted in alphabetic order by default.\n",
    "\n",
    "print(vectorizer.get_feature_names_out())"
   ]
  },
  {
   "cell_type": "code",
   "execution_count": 5,
   "metadata": {
    "colab": {
     "base_uri": "https://localhost:8080/",
     "height": 50
    },
    "colab_type": "code",
    "executionInfo": {
     "elapsed": 1081,
     "status": "ok",
     "timestamp": 1591361655066,
     "user": {
      "displayName": "Rithwik Shetty",
      "photoUrl": "https://lh3.googleusercontent.com/a-/AOh14Gg1IwZK1Vf_C1B4izvbhmGe3POj09ZZ7xxFLUAyMA4=s64",
      "userId": "07431049720224012031"
     },
     "user_tz": -330
    },
    "id": "dTKplK96xLi-",
    "outputId": "2f5778df-f483-4255-d9d3-917773ddbfef"
   },
   "outputs": [
    {
     "name": "stdout",
     "output_type": "stream",
     "text": [
      "[1.91629073 1.22314355 1.51082562 1.         1.91629073 1.91629073\n",
      " 1.         1.91629073 1.        ]\n"
     ]
    }
   ],
   "source": [
    "# Here we will print the sklearn tfidf vectorizer idf values after applying the fit method\n",
    "# After using the fit function on the corpus the vocab has 9 words in it, and each has its idf value.\n",
    "\n",
    "print(vectorizer.idf_)"
   ]
  },
  {
   "cell_type": "code",
   "execution_count": 6,
   "metadata": {
    "colab": {
     "base_uri": "https://localhost:8080/",
     "height": 33
    },
    "colab_type": "code",
    "executionInfo": {
     "elapsed": 1039,
     "status": "ok",
     "timestamp": 1591361655069,
     "user": {
      "displayName": "Rithwik Shetty",
      "photoUrl": "https://lh3.googleusercontent.com/a-/AOh14Gg1IwZK1Vf_C1B4izvbhmGe3POj09ZZ7xxFLUAyMA4=s64",
      "userId": "07431049720224012031"
     },
     "user_tz": -330
    },
    "id": "-CTiWHygxLjA",
    "outputId": "32a7a2dd-e168-48ab-a2e5-09ad89102e89"
   },
   "outputs": [
    {
     "data": {
      "text/plain": [
       "(4, 9)"
      ]
     },
     "execution_count": 6,
     "metadata": {},
     "output_type": "execute_result"
    }
   ],
   "source": [
    "# shape of sklearn tfidf vectorizer output after applying transform method.\n",
    "\n",
    "skl_output.shape"
   ]
  },
  {
   "cell_type": "code",
   "execution_count": 7,
   "metadata": {
    "colab": {
     "base_uri": "https://localhost:8080/",
     "height": 100
    },
    "colab_type": "code",
    "executionInfo": {
     "elapsed": 812,
     "status": "ok",
     "timestamp": 1591361655071,
     "user": {
      "displayName": "Rithwik Shetty",
      "photoUrl": "https://lh3.googleusercontent.com/a-/AOh14Gg1IwZK1Vf_C1B4izvbhmGe3POj09ZZ7xxFLUAyMA4=s64",
      "userId": "07431049720224012031"
     },
     "user_tz": -330
    },
    "id": "bDKEpbA-xLjD",
    "outputId": "73cfd8ac-2332-41ca-c5d5-b089009d7d93"
   },
   "outputs": [
    {
     "name": "stdout",
     "output_type": "stream",
     "text": [
      "  (0, 8)\t0.38408524091481483\n",
      "  (0, 6)\t0.38408524091481483\n",
      "  (0, 3)\t0.38408524091481483\n",
      "  (0, 2)\t0.5802858236844359\n",
      "  (0, 1)\t0.46979138557992045\n"
     ]
    }
   ],
   "source": [
    "# sklearn tfidf values for first line of the above corpus.\n",
    "# Here the output is a sparse matrix\n",
    "\n",
    "print(skl_output[0])"
   ]
  },
  {
   "cell_type": "code",
   "execution_count": 8,
   "metadata": {
    "colab": {
     "base_uri": "https://localhost:8080/",
     "height": 50
    },
    "colab_type": "code",
    "executionInfo": {
     "elapsed": 779,
     "status": "ok",
     "timestamp": 1591361655419,
     "user": {
      "displayName": "Rithwik Shetty",
      "photoUrl": "https://lh3.googleusercontent.com/a-/AOh14Gg1IwZK1Vf_C1B4izvbhmGe3POj09ZZ7xxFLUAyMA4=s64",
      "userId": "07431049720224012031"
     },
     "user_tz": -330
    },
    "id": "3QWo34hexLjF",
    "outputId": "46f4af69-489f-4aaf-d2e1-350cef3dfd48"
   },
   "outputs": [
    {
     "name": "stdout",
     "output_type": "stream",
     "text": [
      "[[0.         0.46979139 0.58028582 0.38408524 0.         0.\n",
      "  0.38408524 0.         0.38408524]]\n"
     ]
    }
   ],
   "source": [
    "# sklearn tfidf values for first line of the above corpus.\n",
    "# To understand the output better, here we are converting the sparse output matrix to dense matrix and printing it.\n",
    "# Notice that this output is normalized using L2 normalization. sklearn does this by default.\n",
    "\n",
    "print(skl_output[0].toarray())"
   ]
  },
  {
   "cell_type": "markdown",
   "metadata": {
    "colab_type": "text",
    "id": "qfIwx5LzxLjI"
   },
   "source": [
    "# My Solution"
   ]
  },
  {
   "cell_type": "markdown",
   "metadata": {
    "colab_type": "text",
    "id": "Mhkq4QrQY7qY"
   },
   "source": [
    "## Task 1:"
   ]
  },
  {
   "cell_type": "code",
   "execution_count": 9,
   "metadata": {
    "colab": {},
    "colab_type": "code",
    "id": "g93x_cvE1zOR"
   },
   "outputs": [],
   "source": [
    "corpus = [\n",
    "     'this is the first document',\n",
    "     'this document is the second document',\n",
    "     'and this is the third one',\n",
    "     'is this the first document',\n",
    "]"
   ]
  },
  {
   "cell_type": "code",
   "execution_count": 15,
   "metadata": {
    "colab": {},
    "colab_type": "code",
    "id": "HjuCcJwXxLjJ"
   },
   "outputs": [],
   "source": [
    "from collections import Counter\n",
    "from tqdm import tqdm\n",
    "from scipy.sparse import csr_matrix\n",
    "import math\n",
    "from sklearn.preprocessing import normalize\n",
    "\n",
    "def fit(corpus):\n",
    "    \"\"\"\n",
    "    With this function, we will find all unique words in the data\n",
    "    and we will assign a dimension-number to each unique word\n",
    "    \"\"\"\n",
    "    \n",
    "    # Create an empty set\n",
    "    unique_words=set() \n",
    "    \n",
    "    # This step is done to check if the given corpus is in a list\n",
    "    if isinstance(corpus,list):    \n",
    "        for docs in corpus:      \n",
    "            for word in docs.split():\n",
    "                # single letters and punctuations are ignored. sklearn deals with punctuations differently  \n",
    "                if len(word)<2:    \n",
    "                    continue\n",
    "                # repeated word will not be added since unique_words is a set\n",
    "                unique_words.add(word)  \n",
    "        unique_words=sorted(list(unique_words))  \n",
    "        # assign dimension number which is the index number\n",
    "        unique_words={j:i for i,j in enumerate(unique_words)}  \n",
    "    else:\n",
    "        print('Pass a list of sentences')\n",
    "    return unique_words\n",
    "\n",
    "\n",
    "\n",
    "def transform(corpus,unique):\n",
    "    \"\"\"\n",
    "    With this function, we will write a feature matrix using sparse matrix.\n",
    "    \"\"\"\n",
    "    # Create empty lists\n",
    "    idf=[]\n",
    "    rows = []\n",
    "    columns = []\n",
    "    values = []\n",
    "    \n",
    "    #Check if corpus is in a list\n",
    "    if isinstance(corpus, list): \n",
    "        #First I calculated IDF values for all the unique words\n",
    "        for word in unique.keys():\n",
    "            number=0\n",
    "            for docs in corpus:\n",
    "                if word not in docs:\n",
    "                    continue\n",
    "                number+=1\n",
    "            #Formula as given to match sklearn idf values\n",
    "            idf.append((1+ (math.log((1+len(corpus))/(1+number))))) \n",
    "        \n",
    "        for idx, row in enumerate(tqdm(corpus)): \n",
    "            \n",
    "            # Create a dictionary where each key is a unique word in the document\n",
    "            # and the value is it's frequency in that document\n",
    "            word_freq = dict(Counter(row.split())) \n",
    "            \n",
    "            for word, freq in word_freq.items():  \n",
    "                if len(word) < 2:\n",
    "                    continue\n",
    "                # Calculate Term Frequency\n",
    "                tf=(freq/len(row.split()))   \n",
    "                \n",
    "                col_index = unique.get(word, -1) \n",
    "\n",
    "                if col_index !=-1:\n",
    "                    # The variables idx,col_index,idf and tf are finally used for definition of the sparse matrix\n",
    "                    rows.append(idx)\n",
    "                    columns.append(col_index)\n",
    "                    # Calculation of TF-IDF values\n",
    "                    values.append(idf[col_index]*tf)  \n",
    "                      \n",
    "                    # I have used print statements and break to debug my code and run single loops.\n",
    "\n",
    "        # Create Sparse matrix of appropriate shape\n",
    "        CSR=csr_matrix((values, (rows,columns)), shape=(len(corpus),len(unique)))  \n",
    "        # Perform L2 Normalization to get values equal to that of sklearn implementation\n",
    "        final = normalize(CSR,norm='l2')  \n",
    "        return final\n",
    "    else:\n",
    "        print(\"you need to pass list of strings\")"
   ]
  },
  {
   "cell_type": "code",
   "execution_count": 16,
   "metadata": {
    "colab": {
     "base_uri": "https://localhost:8080/",
     "height": 33
    },
    "colab_type": "code",
    "executionInfo": {
     "elapsed": 767,
     "status": "ok",
     "timestamp": 1591361671367,
     "user": {
      "displayName": "Rithwik Shetty",
      "photoUrl": "https://lh3.googleusercontent.com/a-/AOh14Gg1IwZK1Vf_C1B4izvbhmGe3POj09ZZ7xxFLUAyMA4=s64",
      "userId": "07431049720224012031"
     },
     "user_tz": -330
    },
    "id": "VdPDeA5qI08N",
    "outputId": "222cf3e0-e7c8-4914-d686-dfa224f00303"
   },
   "outputs": [
    {
     "name": "stdout",
     "output_type": "stream",
     "text": [
      "dict_keys(['and', 'document', 'first', 'is', 'one', 'second', 'the', 'third', 'this'])\n"
     ]
    }
   ],
   "source": [
    "unique=fit(corpus)\n",
    "print(unique.keys())"
   ]
  },
  {
   "cell_type": "code",
   "execution_count": 17,
   "metadata": {
    "colab": {
     "base_uri": "https://localhost:8080/",
     "height": 33
    },
    "colab_type": "code",
    "executionInfo": {
     "elapsed": 686,
     "status": "ok",
     "timestamp": 1591361671938,
     "user": {
      "displayName": "Rithwik Shetty",
      "photoUrl": "https://lh3.googleusercontent.com/a-/AOh14Gg1IwZK1Vf_C1B4izvbhmGe3POj09ZZ7xxFLUAyMA4=s64",
      "userId": "07431049720224012031"
     },
     "user_tz": -330
    },
    "id": "aoCMLRtfI7xI",
    "outputId": "482da818-16f0-4d14-9219-081597d1c6a2"
   },
   "outputs": [
    {
     "name": "stderr",
     "output_type": "stream",
     "text": [
      "100%|███████████████████████████████████████████| 4/4 [00:00<00:00, 7828.85it/s]\n"
     ]
    }
   ],
   "source": [
    "transformed_final=transform(corpus,unique)"
   ]
  },
  {
   "cell_type": "code",
   "execution_count": 18,
   "metadata": {
    "colab": {
     "base_uri": "https://localhost:8080/",
     "height": 33
    },
    "colab_type": "code",
    "executionInfo": {
     "elapsed": 771,
     "status": "ok",
     "timestamp": 1591361672539,
     "user": {
      "displayName": "Rithwik Shetty",
      "photoUrl": "https://lh3.googleusercontent.com/a-/AOh14Gg1IwZK1Vf_C1B4izvbhmGe3POj09ZZ7xxFLUAyMA4=s64",
      "userId": "07431049720224012031"
     },
     "user_tz": -330
    },
    "id": "HMoFlTESaEyI",
    "outputId": "3494380f-da40-490c-dab3-ef37efceaa4e"
   },
   "outputs": [
    {
     "name": "stdout",
     "output_type": "stream",
     "text": [
      "(4, 9)\n"
     ]
    }
   ],
   "source": [
    "print(transformed_final.shape)"
   ]
  },
  {
   "cell_type": "code",
   "execution_count": 19,
   "metadata": {
    "colab": {
     "base_uri": "https://localhost:8080/",
     "height": 100
    },
    "colab_type": "code",
    "executionInfo": {
     "elapsed": 651,
     "status": "ok",
     "timestamp": 1591361673027,
     "user": {
      "displayName": "Rithwik Shetty",
      "photoUrl": "https://lh3.googleusercontent.com/a-/AOh14Gg1IwZK1Vf_C1B4izvbhmGe3POj09ZZ7xxFLUAyMA4=s64",
      "userId": "07431049720224012031"
     },
     "user_tz": -330
    },
    "id": "PnJCjoXJJrYk",
    "outputId": "9845f512-61a4-498d-8a24-ee4bf486ac13"
   },
   "outputs": [
    {
     "name": "stdout",
     "output_type": "stream",
     "text": [
      "  (0, 1)\t0.4697913855799205\n",
      "  (0, 2)\t0.580285823684436\n",
      "  (0, 3)\t0.3840852409148149\n",
      "  (0, 6)\t0.3840852409148149\n",
      "  (0, 8)\t0.3840852409148149\n"
     ]
    }
   ],
   "source": [
    "print(transformed_final[0])"
   ]
  },
  {
   "cell_type": "code",
   "execution_count": 20,
   "metadata": {
    "colab": {
     "base_uri": "https://localhost:8080/",
     "height": 50
    },
    "colab_type": "code",
    "executionInfo": {
     "elapsed": 725,
     "status": "ok",
     "timestamp": 1591361674324,
     "user": {
      "displayName": "Rithwik Shetty",
      "photoUrl": "https://lh3.googleusercontent.com/a-/AOh14Gg1IwZK1Vf_C1B4izvbhmGe3POj09ZZ7xxFLUAyMA4=s64",
      "userId": "07431049720224012031"
     },
     "user_tz": -330
    },
    "id": "KEBLuEzOJtA6",
    "outputId": "44c52c71-d819-48bd-9bc8-db2102945f73"
   },
   "outputs": [
    {
     "name": "stdout",
     "output_type": "stream",
     "text": [
      "[[0.         0.46979139 0.58028582 0.38408524 0.         0.\n",
      "  0.38408524 0.         0.38408524]]\n"
     ]
    }
   ],
   "source": [
    "print(transformed_final[0].toarray())"
   ]
  },
  {
   "cell_type": "markdown",
   "metadata": {
    "colab_type": "text",
    "id": "MMxBmVZExLjK"
   },
   "source": [
    "## Task-2"
   ]
  },
  {
   "cell_type": "markdown",
   "metadata": {
    "colab_type": "text",
    "id": "51j_OtqAxLjL"
   },
   "source": [
    "<font face='georgia'>\n",
    "    <h4><strong>2. Implement max features functionality:</strong></h4>\n",
    "\n",
    "<ul>\n",
    "    <li> As a part of this task we will modify our fit and transform functions so that our vocab will contain only 50 terms with top idf scores.</li>\n",
    "    <br>\n",
    "    <li>This task is similar to our previous task, just that here our vocabulary is limited to only top 50 features names based on their idf values. Basically our output will have exactly 50 columns and the number of rows will depend on the number of documents we have in our corpus.</li>\n",
    "    <br>\n",
    "    <li>Here we will use a pickle file, with file name <strong>cleaned_strings</strong>. We will load the corpus from this file and use it as input to our tfidf vectorizer.</li>\n",
    "    <br>\n",
    "    <li>Steps to approach this task:\n",
    "    <ol>\n",
    "        <li> We would have to write both fit and transform methods for our custom implementation of tfidf vectorizer, just like in the previous task. Additionally, here we have to limit the number of features generated to 50 as described above.</li>\n",
    "        <li> Now we sort our vocab in descending order of idf values and print out the words in the sorted vocab after we fit our data. Here we should be getting only 50 terms in our vocab. And we make sure to print idf values for each term in our vocab. </li>\n",
    "        <li> The output of our implementation will be a sparse matrix. Before generating the final output, we need to normalize our sparse matrix using L2 normalization. Refer to this link https://scikit-learn.org/stable/modules/generated/sklearn.preprocessing.normalize.html </li>\n",
    "        <li> Now check the output of a single document in our collection of documents, we can convert the sparse matrix related only to that document into dense matrix and print it. And this dense matrix should contain 1 row and 50 columns. </li>\n",
    "        </ol>\n",
    "    </li>\n",
    "    <br>\n",
    "   </ul>"
   ]
  },
  {
   "cell_type": "code",
   "execution_count": 28,
   "metadata": {
    "colab": {},
    "colab_type": "code",
    "id": "NHxPLlwNxLjL"
   },
   "outputs": [
    {
     "name": "stdout",
     "output_type": "stream",
     "text": [
      "Number of documents in corpus =  746\n"
     ]
    }
   ],
   "source": [
    "# Below is the code to load the cleaned_strings pickle file provided\n",
    "# Here corpus is of list type\n",
    "\n",
    "import pickle\n",
    "from collections import Counter\n",
    "from tqdm import tqdm\n",
    "from scipy.sparse import csr_matrix\n",
    "import math\n",
    "from operator import itemgetter\n",
    "from sklearn.preprocessing import normalize\n",
    "import numpy\n",
    "with open('cleaned_strings', 'rb') as f:\n",
    "    corpus = pickle.load(f)\n",
    "    \n",
    "# printing the length of the corpus loaded\n",
    "print(\"Number of documents in corpus = \",len(corpus))"
   ]
  },
  {
   "cell_type": "code",
   "execution_count": 29,
   "metadata": {
    "colab": {},
    "colab_type": "code",
    "id": "1_DJnnR3xLjR"
   },
   "outputs": [],
   "source": [
    "def calc_idf(unique,corpus):\n",
    "    \"\"\"\n",
    "    This function calculates the idf values \n",
    "    \"\"\"\n",
    "    idf={}\n",
    "    for words in unique:\n",
    "        count=0\n",
    "        for docs in corpus:\n",
    "            if words not in docs.split():\n",
    "                continue\n",
    "            count+=1\n",
    "        idf[words]=1+math.log((1+len(corpus))/(1+count))\n",
    "    return idf\n"
   ]
  },
  {
   "cell_type": "code",
   "execution_count": 30,
   "metadata": {
    "colab": {},
    "colab_type": "code",
    "id": "1C8MxtPAcohL"
   },
   "outputs": [],
   "source": [
    "def fit(corpus):\n",
    "    \"\"\"\n",
    "    With this function, we will return 50 unique words from the corpus, having maximum \n",
    "    IDF values and we will assign a dimension-number to each unique word\n",
    "    \"\"\"\n",
    "    if isinstance(corpus,list):\n",
    "        # Using set() to avoid repitition of words\n",
    "        unique_words=set()  \n",
    "        for docs in corpus:\n",
    "            for word in docs.split():\n",
    "                if len(word)<2:\n",
    "                    continue\n",
    "                unique_words.add(word)\n",
    "\n",
    "        # Unique words list is created \n",
    "        unique_words=sorted(list(unique_words))\n",
    "        # Calculation of IDF values\n",
    "        idf_values= calc_idf(unique_words,corpus)\n",
    "        \n",
    "        # Top 50 idf values and their corresponding words are selected\n",
    "        idf_50= dict(sorted(idf_values.items(), key = itemgetter(1), reverse = True)[:50])\n",
    "        # https://www.geeksforgeeks.org/python-n-largest-values-in-dictionary/ \n",
    "\n",
    "        # Only the required unique words of top 50 IDF values are retained and dimension number is assigned \n",
    "        unique_words={j:i for i,j in enumerate(idf_50.keys())}\n",
    "        \n",
    "        return unique_words,idf_50\n",
    "    else:\n",
    "        print(\"Enter a list of strings\")\n",
    "    \n",
    "\n",
    "\n",
    "def transform(unique_words,idf_values,corpus):\n",
    "    \"\"\"\n",
    "    With this function, we will write a feature matrix using sparse matrix.\n",
    "    \"\"\"\n",
    "    rows=[]\n",
    "    col=[]\n",
    "    values=[]\n",
    "    # Check if corpus is in the form of a list or not\n",
    "    if isinstance(corpus,list): \n",
    "        for index,docs in enumerate(tqdm(corpus)):\n",
    "\n",
    "            # Using Counter() to get the frequency of each word in the document\n",
    "            word_freq= dict(Counter(docs.split()))\n",
    "\n",
    "            for word,freq in word_freq.items():\n",
    "                if len(word)<2:     \n",
    "                    continue\n",
    "                col_index= unique_words.get(word,-1)\n",
    "                if col_index != -1:\n",
    "                    # Calculate Term Frequency\n",
    "                    tf=(freq/len(docs.split()))\n",
    "                    \n",
    "                    # Collect the IDF value of the unique word from the 50 idf values \n",
    "                    idf=idf_values.get(word,0)\n",
    "                    \n",
    "                    # The variables idx,col_index,idf and tf are finally used for definition of the sparse matrix\n",
    "                    rows.append(index)\n",
    "                    col.append(col_index)\n",
    "                    values.append(tf*idf)\n",
    "\n",
    "        # Create a sparse matrix\n",
    "        CSR=csr_matrix((values, (rows,col)), shape=(len(corpus),len(idf_values)))\n",
    "        # Return a normalized sparse matrix\n",
    "        return normalize(CSR,norm='l2')\n",
    "\n",
    "    else:\n",
    "        print(\"enter a list of strings\")\n"
   ]
  },
  {
   "cell_type": "code",
   "execution_count": 31,
   "metadata": {
    "colab": {
     "base_uri": "https://localhost:8080/",
     "height": 50
    },
    "colab_type": "code",
    "executionInfo": {
     "elapsed": 2509,
     "status": "ok",
     "timestamp": 1591361636403,
     "user": {
      "displayName": "Rithwik Shetty",
      "photoUrl": "https://lh3.googleusercontent.com/a-/AOh14Gg1IwZK1Vf_C1B4izvbhmGe3POj09ZZ7xxFLUAyMA4=s64",
      "userId": "07431049720224012031"
     },
     "user_tz": -330
    },
    "id": "sh1aWtOoZL86",
    "outputId": "d109a691-3edb-4c09-f7b6-9d3be1ed2a78"
   },
   "outputs": [
    {
     "name": "stdout",
     "output_type": "stream",
     "text": [
      "50\n",
      "50\n"
     ]
    }
   ],
   "source": [
    "unique_50,idf_50= fit(corpus)\n",
    "print(len(unique_50))\n",
    "print(len(idf_50))"
   ]
  },
  {
   "cell_type": "code",
   "execution_count": 32,
   "metadata": {
    "colab": {
     "base_uri": "https://localhost:8080/",
     "height": 33
    },
    "colab_type": "code",
    "executionInfo": {
     "elapsed": 1406,
     "status": "ok",
     "timestamp": 1591361636409,
     "user": {
      "displayName": "Rithwik Shetty",
      "photoUrl": "https://lh3.googleusercontent.com/a-/AOh14Gg1IwZK1Vf_C1B4izvbhmGe3POj09ZZ7xxFLUAyMA4=s64",
      "userId": "07431049720224012031"
     },
     "user_tz": -330
    },
    "id": "BIPwRgCNdF4q",
    "outputId": "816d2667-8d01-41f7-8bb3-40264c4b29f8"
   },
   "outputs": [
    {
     "name": "stderr",
     "output_type": "stream",
     "text": [
      "100%|██████████████████████████████████████| 746/746 [00:00<00:00, 99454.91it/s]\n"
     ]
    }
   ],
   "source": [
    "transformed_50=transform(unique_50,idf_50,corpus)\n"
   ]
  },
  {
   "cell_type": "code",
   "execution_count": 33,
   "metadata": {
    "colab": {
     "base_uri": "https://localhost:8080/",
     "height": 33
    },
    "colab_type": "code",
    "executionInfo": {
     "elapsed": 1077,
     "status": "ok",
     "timestamp": 1591361639905,
     "user": {
      "displayName": "Rithwik Shetty",
      "photoUrl": "https://lh3.googleusercontent.com/a-/AOh14Gg1IwZK1Vf_C1B4izvbhmGe3POj09ZZ7xxFLUAyMA4=s64",
      "userId": "07431049720224012031"
     },
     "user_tz": -330
    },
    "id": "Qm7kE0dcitqR",
    "outputId": "33031796-1c5c-4c5a-eab9-a9c6515cb2a7"
   },
   "outputs": [
    {
     "name": "stdout",
     "output_type": "stream",
     "text": [
      "(746, 50)\n"
     ]
    }
   ],
   "source": [
    "print(transformed_50.shape)"
   ]
  },
  {
   "cell_type": "code",
   "execution_count": 34,
   "metadata": {
    "colab": {
     "base_uri": "https://localhost:8080/",
     "height": 850
    },
    "colab_type": "code",
    "executionInfo": {
     "elapsed": 675,
     "status": "ok",
     "timestamp": 1591361640442,
     "user": {
      "displayName": "Rithwik Shetty",
      "photoUrl": "https://lh3.googleusercontent.com/a-/AOh14Gg1IwZK1Vf_C1B4izvbhmGe3POj09ZZ7xxFLUAyMA4=s64",
      "userId": "07431049720224012031"
     },
     "user_tz": -330
    },
    "id": "Kj18x9SwdfHn",
    "outputId": "b67a86b8-a69b-4d2f-c3b5-77bcce24217a"
   },
   "outputs": [
    {
     "name": "stdout",
     "output_type": "stream",
     "text": [
      "  (0, 30)\t1.0\n",
      "  (68, 24)\t1.0\n",
      "  (72, 29)\t1.0\n",
      "  (74, 31)\t1.0\n",
      "  (119, 33)\t1.0\n",
      "  (135, 3)\t0.37796447300922725\n",
      "  (135, 10)\t0.37796447300922725\n",
      "  (135, 18)\t0.37796447300922725\n",
      "  (135, 20)\t0.37796447300922725\n",
      "  (135, 36)\t0.37796447300922725\n",
      "  (135, 40)\t0.37796447300922725\n",
      "  (135, 41)\t0.37796447300922725\n",
      "  (176, 49)\t1.0\n",
      "  (181, 13)\t1.0\n",
      "  (192, 21)\t1.0\n",
      "  (193, 23)\t1.0\n",
      "  (216, 2)\t1.0\n",
      "  (222, 47)\t1.0\n",
      "  (225, 19)\t1.0\n",
      "  (227, 17)\t1.0\n",
      "  (241, 44)\t1.0\n",
      "  (270, 1)\t1.0\n",
      "  (290, 25)\t1.0\n",
      "  (333, 26)\t1.0\n",
      "  (334, 15)\t1.0\n",
      "  (341, 43)\t1.0\n",
      "  (344, 42)\t1.0\n",
      "  (348, 8)\t1.0\n",
      "  (377, 37)\t1.0\n",
      "  (409, 5)\t1.0\n",
      "  (430, 39)\t1.0\n",
      "  (457, 45)\t1.0\n",
      "  (461, 4)\t1.0\n",
      "  (465, 38)\t1.0\n",
      "  (475, 35)\t1.0\n",
      "  (493, 6)\t1.0\n",
      "  (500, 48)\t1.0\n",
      "  (548, 0)\t0.7071067811865475\n",
      "  (548, 32)\t0.7071067811865475\n",
      "  (608, 14)\t1.0\n",
      "  (612, 11)\t1.0\n",
      "  (620, 46)\t1.0\n",
      "  (632, 7)\t1.0\n",
      "  (644, 12)\t0.7071067811865475\n",
      "  (644, 27)\t0.7071067811865475\n",
      "  (664, 28)\t1.0\n",
      "  (667, 22)\t1.0\n",
      "  (691, 34)\t1.0\n",
      "  (697, 9)\t1.0\n",
      "  (722, 16)\t1.0\n"
     ]
    }
   ],
   "source": [
    "print(transformed_50)"
   ]
  },
  {
   "cell_type": "code",
   "execution_count": 35,
   "metadata": {
    "colab": {
     "base_uri": "https://localhost:8080/",
     "height": 850
    },
    "colab_type": "code",
    "executionInfo": {
     "elapsed": 705,
     "status": "ok",
     "timestamp": 1591361641447,
     "user": {
      "displayName": "Rithwik Shetty",
      "photoUrl": "https://lh3.googleusercontent.com/a-/AOh14Gg1IwZK1Vf_C1B4izvbhmGe3POj09ZZ7xxFLUAyMA4=s64",
      "userId": "07431049720224012031"
     },
     "user_tz": -330
    },
    "id": "MdhyYAN7dh_E",
    "outputId": "33319d03-2c5c-4c64-cbc7-8ca2aa7b2912"
   },
   "outputs": [
    {
     "data": {
      "text/plain": [
       "{'aailiyah': 0,\n",
       " 'abandoned': 1,\n",
       " 'abroad': 2,\n",
       " 'abstruse': 3,\n",
       " 'academy': 4,\n",
       " 'accents': 5,\n",
       " 'accessible': 6,\n",
       " 'acclaimed': 7,\n",
       " 'accolades': 8,\n",
       " 'accurate': 9,\n",
       " 'accurately': 10,\n",
       " 'achille': 11,\n",
       " 'ackerman': 12,\n",
       " 'actions': 13,\n",
       " 'adams': 14,\n",
       " 'add': 15,\n",
       " 'added': 16,\n",
       " 'admins': 17,\n",
       " 'admiration': 18,\n",
       " 'admitted': 19,\n",
       " 'adrift': 20,\n",
       " 'adventure': 21,\n",
       " 'aesthetically': 22,\n",
       " 'affected': 23,\n",
       " 'affleck': 24,\n",
       " 'afternoon': 25,\n",
       " 'aged': 26,\n",
       " 'ages': 27,\n",
       " 'agree': 28,\n",
       " 'agreed': 29,\n",
       " 'aimless': 30,\n",
       " 'aired': 31,\n",
       " 'akasha': 32,\n",
       " 'akin': 33,\n",
       " 'alert': 34,\n",
       " 'alike': 35,\n",
       " 'allison': 36,\n",
       " 'allow': 37,\n",
       " 'allowing': 38,\n",
       " 'alongside': 39,\n",
       " 'amateurish': 40,\n",
       " 'amaze': 41,\n",
       " 'amazed': 42,\n",
       " 'amazingly': 43,\n",
       " 'amusing': 44,\n",
       " 'amust': 45,\n",
       " 'anatomist': 46,\n",
       " 'angel': 47,\n",
       " 'angela': 48,\n",
       " 'angelina': 49}"
      ]
     },
     "execution_count": 35,
     "metadata": {},
     "output_type": "execute_result"
    }
   ],
   "source": [
    "unique_50"
   ]
  },
  {
   "cell_type": "code",
   "execution_count": 36,
   "metadata": {
    "colab": {
     "base_uri": "https://localhost:8080/",
     "height": 850
    },
    "colab_type": "code",
    "executionInfo": {
     "elapsed": 743,
     "status": "ok",
     "timestamp": 1591361642627,
     "user": {
      "displayName": "Rithwik Shetty",
      "photoUrl": "https://lh3.googleusercontent.com/a-/AOh14Gg1IwZK1Vf_C1B4izvbhmGe3POj09ZZ7xxFLUAyMA4=s64",
      "userId": "07431049720224012031"
     },
     "user_tz": -330
    },
    "id": "b645K_MHd3yA",
    "outputId": "0071d200-4761-49bb-af39-2f5d14641f83"
   },
   "outputs": [
    {
     "data": {
      "text/plain": [
       "{'aailiyah': 6.922918004572872,\n",
       " 'abandoned': 6.922918004572872,\n",
       " 'abroad': 6.922918004572872,\n",
       " 'abstruse': 6.922918004572872,\n",
       " 'academy': 6.922918004572872,\n",
       " 'accents': 6.922918004572872,\n",
       " 'accessible': 6.922918004572872,\n",
       " 'acclaimed': 6.922918004572872,\n",
       " 'accolades': 6.922918004572872,\n",
       " 'accurate': 6.922918004572872,\n",
       " 'accurately': 6.922918004572872,\n",
       " 'achille': 6.922918004572872,\n",
       " 'ackerman': 6.922918004572872,\n",
       " 'actions': 6.922918004572872,\n",
       " 'adams': 6.922918004572872,\n",
       " 'add': 6.922918004572872,\n",
       " 'added': 6.922918004572872,\n",
       " 'admins': 6.922918004572872,\n",
       " 'admiration': 6.922918004572872,\n",
       " 'admitted': 6.922918004572872,\n",
       " 'adrift': 6.922918004572872,\n",
       " 'adventure': 6.922918004572872,\n",
       " 'aesthetically': 6.922918004572872,\n",
       " 'affected': 6.922918004572872,\n",
       " 'affleck': 6.922918004572872,\n",
       " 'afternoon': 6.922918004572872,\n",
       " 'aged': 6.922918004572872,\n",
       " 'ages': 6.922918004572872,\n",
       " 'agree': 6.922918004572872,\n",
       " 'agreed': 6.922918004572872,\n",
       " 'aimless': 6.922918004572872,\n",
       " 'aired': 6.922918004572872,\n",
       " 'akasha': 6.922918004572872,\n",
       " 'akin': 6.922918004572872,\n",
       " 'alert': 6.922918004572872,\n",
       " 'alike': 6.922918004572872,\n",
       " 'allison': 6.922918004572872,\n",
       " 'allow': 6.922918004572872,\n",
       " 'allowing': 6.922918004572872,\n",
       " 'alongside': 6.922918004572872,\n",
       " 'amateurish': 6.922918004572872,\n",
       " 'amaze': 6.922918004572872,\n",
       " 'amazed': 6.922918004572872,\n",
       " 'amazingly': 6.922918004572872,\n",
       " 'amusing': 6.922918004572872,\n",
       " 'amust': 6.922918004572872,\n",
       " 'anatomist': 6.922918004572872,\n",
       " 'angel': 6.922918004572872,\n",
       " 'angela': 6.922918004572872,\n",
       " 'angelina': 6.922918004572872}"
      ]
     },
     "execution_count": 36,
     "metadata": {},
     "output_type": "execute_result"
    }
   ],
   "source": [
    "idf_50"
   ]
  },
  {
   "cell_type": "code",
   "execution_count": 0,
   "metadata": {
    "colab": {},
    "colab_type": "code",
    "id": "PQcNbwE3i5zq"
   },
   "outputs": [],
   "source": []
  }
 ],
 "metadata": {
  "colab": {
   "collapsed_sections": [],
   "name": "Assignment_3.ipynb",
   "provenance": []
  },
  "kernelspec": {
   "display_name": "Python 3 (ipykernel)",
   "language": "python",
   "name": "python3"
  },
  "language_info": {
   "codemirror_mode": {
    "name": "ipython",
    "version": 3
   },
   "file_extension": ".py",
   "mimetype": "text/x-python",
   "name": "python",
   "nbconvert_exporter": "python",
   "pygments_lexer": "ipython3",
   "version": "3.9.13"
  }
 },
 "nbformat": 4,
 "nbformat_minor": 1
}
